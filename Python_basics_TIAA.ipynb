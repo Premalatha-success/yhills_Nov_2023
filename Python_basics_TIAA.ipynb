{
 "cells": [
  {
   "cell_type": "markdown",
   "id": "29f782c2",
   "metadata": {},
   "source": [
    "### My First Program"
   ]
  },
  {
   "cell_type": "code",
   "execution_count": 5,
   "id": "a7741954",
   "metadata": {},
   "outputs": [
    {
     "name": "stdout",
     "output_type": "stream",
     "text": [
      "Hello World\n"
     ]
    }
   ],
   "source": [
    "print(\"Hello World\")"
   ]
  },
  {
   "cell_type": "code",
   "execution_count": 6,
   "id": "a29bedec",
   "metadata": {},
   "outputs": [
    {
     "name": "stdout",
     "output_type": "stream",
     "text": [
      "Latha\n"
     ]
    }
   ],
   "source": [
    "print(\"Latha\")"
   ]
  },
  {
   "cell_type": "markdown",
   "id": "d29dd323",
   "metadata": {},
   "source": [
    "### Data Types"
   ]
  },
  {
   "cell_type": "code",
   "execution_count": 7,
   "id": "d2052226",
   "metadata": {},
   "outputs": [
    {
     "data": {
      "text/plain": [
       "str"
      ]
     },
     "execution_count": 7,
     "metadata": {},
     "output_type": "execute_result"
    }
   ],
   "source": [
    "name=\"Latha\"\n",
    "type(name)"
   ]
  },
  {
   "cell_type": "code",
   "execution_count": 8,
   "id": "fd9706be",
   "metadata": {},
   "outputs": [
    {
     "data": {
      "text/plain": [
       "int"
      ]
     },
     "execution_count": 8,
     "metadata": {},
     "output_type": "execute_result"
    }
   ],
   "source": [
    "x=10\n",
    "type(x)"
   ]
  },
  {
   "cell_type": "code",
   "execution_count": 9,
   "id": "1aa58df9",
   "metadata": {},
   "outputs": [
    {
     "data": {
      "text/plain": [
       "float"
      ]
     },
     "execution_count": 9,
     "metadata": {},
     "output_type": "execute_result"
    }
   ],
   "source": [
    "x=10.5\n",
    "type(x)"
   ]
  },
  {
   "cell_type": "code",
   "execution_count": 10,
   "id": "39c5261f",
   "metadata": {},
   "outputs": [
    {
     "data": {
      "text/plain": [
       "bool"
      ]
     },
     "execution_count": 10,
     "metadata": {},
     "output_type": "execute_result"
    }
   ],
   "source": [
    "x=True\n",
    "type(x)"
   ]
  },
  {
   "cell_type": "markdown",
   "id": "9c53a075",
   "metadata": {},
   "source": [
    "### Variables"
   ]
  },
  {
   "cell_type": "code",
   "execution_count": 11,
   "id": "0f52ca0e",
   "metadata": {},
   "outputs": [
    {
     "data": {
      "text/plain": [
       "'Latha'"
      ]
     },
     "execution_count": 11,
     "metadata": {},
     "output_type": "execute_result"
    }
   ],
   "source": [
    "name=\"Latha\"\n",
    "name"
   ]
  },
  {
   "cell_type": "code",
   "execution_count": 12,
   "id": "6d1e7dc4",
   "metadata": {},
   "outputs": [
    {
     "ename": "SyntaxError",
     "evalue": "invalid syntax (2268607609.py, line 1)",
     "output_type": "error",
     "traceback": [
      "\u001b[1;36m  Cell \u001b[1;32mIn[12], line 1\u001b[1;36m\u001b[0m\n\u001b[1;33m    name lists=\"Prema\",\"Latha\"\u001b[0m\n\u001b[1;37m         ^\u001b[0m\n\u001b[1;31mSyntaxError\u001b[0m\u001b[1;31m:\u001b[0m invalid syntax\n"
     ]
    }
   ],
   "source": [
    "name lists=\"Prema\",\"Latha\"\n",
    "name lists"
   ]
  },
  {
   "cell_type": "markdown",
   "id": "ae5d0cff",
   "metadata": {},
   "source": [
    "#### Variable name should not have space"
   ]
  },
  {
   "cell_type": "code",
   "execution_count": 13,
   "id": "ff0f9868",
   "metadata": {},
   "outputs": [
    {
     "ename": "SyntaxError",
     "evalue": "invalid decimal literal (4008364431.py, line 1)",
     "output_type": "error",
     "traceback": [
      "\u001b[1;36m  Cell \u001b[1;32mIn[13], line 1\u001b[1;36m\u001b[0m\n\u001b[1;33m    2names=\"Prema\",\"Latha\"\u001b[0m\n\u001b[1;37m    ^\u001b[0m\n\u001b[1;31mSyntaxError\u001b[0m\u001b[1;31m:\u001b[0m invalid decimal literal\n"
     ]
    }
   ],
   "source": [
    "2names=\"Prema\",\"Latha\"\n",
    "2names"
   ]
  },
  {
   "cell_type": "markdown",
   "id": "c4c50e09",
   "metadata": {},
   "source": [
    "#### Variable name should not start with a number"
   ]
  },
  {
   "cell_type": "code",
   "execution_count": 14,
   "id": "f46ed5b0",
   "metadata": {},
   "outputs": [
    {
     "data": {
      "text/plain": [
       "('Prema', 'Latha')"
      ]
     },
     "execution_count": 14,
     "metadata": {},
     "output_type": "execute_result"
    }
   ],
   "source": [
    "na2mes=\"Prema\",\"Latha\"\n",
    "na2mes"
   ]
  },
  {
   "cell_type": "code",
   "execution_count": 15,
   "id": "493e8a9e",
   "metadata": {},
   "outputs": [
    {
     "data": {
      "text/plain": [
       "('Prema', 'Latha')"
      ]
     },
     "execution_count": 15,
     "metadata": {},
     "output_type": "execute_result"
    }
   ],
   "source": [
    "names_lists=\"Prema\",\"Latha\"\n",
    "names_lists"
   ]
  },
  {
   "cell_type": "code",
   "execution_count": 16,
   "id": "52b97197",
   "metadata": {},
   "outputs": [
    {
     "ename": "SyntaxError",
     "evalue": "cannot assign to expression here. Maybe you meant '==' instead of '='? (4048288424.py, line 1)",
     "output_type": "error",
     "traceback": [
      "\u001b[1;36m  Cell \u001b[1;32mIn[16], line 1\u001b[1;36m\u001b[0m\n\u001b[1;33m    names+lists=\"Prema\",\"Latha\"\u001b[0m\n\u001b[1;37m    ^\u001b[0m\n\u001b[1;31mSyntaxError\u001b[0m\u001b[1;31m:\u001b[0m cannot assign to expression here. Maybe you meant '==' instead of '='?\n"
     ]
    }
   ],
   "source": [
    "names+lists=\"Prema\",\"Latha\"\n",
    "names+lists"
   ]
  },
  {
   "cell_type": "markdown",
   "id": "a204d89b",
   "metadata": {},
   "source": [
    "#### The only allowed special character is underscore"
   ]
  },
  {
   "cell_type": "code",
   "execution_count": 17,
   "id": "edf34b47",
   "metadata": {},
   "outputs": [
    {
     "data": {
      "text/plain": [
       "'La'"
      ]
     },
     "execution_count": 17,
     "metadata": {},
     "output_type": "execute_result"
    }
   ],
   "source": [
    "_names=\"La\"\n",
    "_names"
   ]
  },
  {
   "cell_type": "code",
   "execution_count": null,
   "id": "63209355",
   "metadata": {},
   "outputs": [],
   "source": [
    "#### Variable names can start with A-Z,a-z,_"
   ]
  },
  {
   "cell_type": "markdown",
   "id": "48f68d06",
   "metadata": {},
   "source": [
    "### Strings"
   ]
  },
  {
   "cell_type": "code",
   "execution_count": null,
   "id": "d743b13b",
   "metadata": {},
   "outputs": [],
   "source": [
    "course=\"Data Science\"\n"
   ]
  },
  {
   "cell_type": "code",
   "execution_count": null,
   "id": "f537cf76",
   "metadata": {},
   "outputs": [],
   "source": [
    "course[0]"
   ]
  },
  {
   "cell_type": "code",
   "execution_count": null,
   "id": "d3365882",
   "metadata": {},
   "outputs": [],
   "source": [
    "course[4]"
   ]
  },
  {
   "cell_type": "code",
   "execution_count": null,
   "id": "c827bc07",
   "metadata": {},
   "outputs": [],
   "source": [
    "course[7]"
   ]
  },
  {
   "cell_type": "code",
   "execution_count": null,
   "id": "bc812ad2",
   "metadata": {},
   "outputs": [],
   "source": [
    "course[100]"
   ]
  },
  {
   "cell_type": "code",
   "execution_count": null,
   "id": "00b2f432",
   "metadata": {},
   "outputs": [],
   "source": [
    "course[11]"
   ]
  },
  {
   "cell_type": "code",
   "execution_count": null,
   "id": "82798735",
   "metadata": {},
   "outputs": [],
   "source": [
    "course[12]"
   ]
  },
  {
   "cell_type": "code",
   "execution_count": null,
   "id": "98970d98",
   "metadata": {},
   "outputs": [],
   "source": [
    "course[0:2]"
   ]
  },
  {
   "cell_type": "code",
   "execution_count": null,
   "id": "83554591",
   "metadata": {},
   "outputs": [],
   "source": [
    "course[2:7]"
   ]
  },
  {
   "cell_type": "code",
   "execution_count": null,
   "id": "b1d30aed",
   "metadata": {},
   "outputs": [],
   "source": [
    "course[-1]"
   ]
  },
  {
   "cell_type": "markdown",
   "id": "c1e1febf",
   "metadata": {},
   "source": [
    "### Lists"
   ]
  },
  {
   "cell_type": "code",
   "execution_count": 18,
   "id": "184671a3",
   "metadata": {},
   "outputs": [
    {
     "data": {
      "text/plain": [
       "[1, 2, 3, 4, 0, -1, 1, 2.2, 'hi']"
      ]
     },
     "execution_count": 18,
     "metadata": {},
     "output_type": "execute_result"
    }
   ],
   "source": [
    "sample_list=[1,2,3,4,0,-1,1,2.2,\"hi\"]\n",
    "sample_list"
   ]
  },
  {
   "cell_type": "code",
   "execution_count": 19,
   "id": "e4bff00a",
   "metadata": {},
   "outputs": [
    {
     "data": {
      "text/plain": [
       "list"
      ]
     },
     "execution_count": 19,
     "metadata": {},
     "output_type": "execute_result"
    }
   ],
   "source": [
    "type(sample_list)"
   ]
  },
  {
   "cell_type": "code",
   "execution_count": 20,
   "id": "f9a850c3",
   "metadata": {},
   "outputs": [
    {
     "data": {
      "text/plain": [
       "1"
      ]
     },
     "execution_count": 20,
     "metadata": {},
     "output_type": "execute_result"
    }
   ],
   "source": [
    "sample_list[0]"
   ]
  },
  {
   "cell_type": "code",
   "execution_count": 21,
   "id": "3b5c1d47",
   "metadata": {},
   "outputs": [
    {
     "ename": "IndexError",
     "evalue": "list index out of range",
     "output_type": "error",
     "traceback": [
      "\u001b[1;31m---------------------------------------------------------------------------\u001b[0m",
      "\u001b[1;31mIndexError\u001b[0m                                Traceback (most recent call last)",
      "Cell \u001b[1;32mIn[21], line 1\u001b[0m\n\u001b[1;32m----> 1\u001b[0m \u001b[43msample_list\u001b[49m\u001b[43m[\u001b[49m\u001b[38;5;241;43m10\u001b[39;49m\u001b[43m]\u001b[49m\n",
      "\u001b[1;31mIndexError\u001b[0m: list index out of range"
     ]
    }
   ],
   "source": [
    "sample_list[10]"
   ]
  },
  {
   "cell_type": "code",
   "execution_count": 22,
   "id": "a913b8ae",
   "metadata": {},
   "outputs": [
    {
     "data": {
      "text/plain": [
       "1"
      ]
     },
     "execution_count": 22,
     "metadata": {},
     "output_type": "execute_result"
    }
   ],
   "source": [
    "sample_list[-3]"
   ]
  },
  {
   "cell_type": "code",
   "execution_count": 23,
   "id": "3164841e",
   "metadata": {},
   "outputs": [
    {
     "data": {
      "text/plain": [
       "[100, 2, 3, 4, 0, -1, 1, 2.2, 'hi']"
      ]
     },
     "execution_count": 23,
     "metadata": {},
     "output_type": "execute_result"
    }
   ],
   "source": [
    "sample_list[0]=100\n",
    "sample_list"
   ]
  },
  {
   "cell_type": "markdown",
   "id": "7c285649",
   "metadata": {},
   "source": [
    "### Square brackets\n",
    "### elements can be retrieved using index\n",
    "### mutable-> can change\n",
    "### heterogenous-> multiple data types"
   ]
  },
  {
   "cell_type": "markdown",
   "id": "98e1c1a4",
   "metadata": {},
   "source": [
    "### Tuples"
   ]
  },
  {
   "cell_type": "code",
   "execution_count": 28,
   "id": "62f34868",
   "metadata": {},
   "outputs": [
    {
     "data": {
      "text/plain": [
       "(1, 2, 3, 4, 5)"
      ]
     },
     "execution_count": 28,
     "metadata": {},
     "output_type": "execute_result"
    }
   ],
   "source": [
    "sample_tuple=(1,2,3,4,5)\n",
    "sample_tuple"
   ]
  },
  {
   "cell_type": "code",
   "execution_count": 25,
   "id": "74a83ed6",
   "metadata": {},
   "outputs": [
    {
     "data": {
      "text/plain": [
       "1"
      ]
     },
     "execution_count": 25,
     "metadata": {},
     "output_type": "execute_result"
    }
   ],
   "source": [
    "sample_tuple[0]"
   ]
  },
  {
   "cell_type": "code",
   "execution_count": 26,
   "id": "273ff254",
   "metadata": {},
   "outputs": [
    {
     "data": {
      "text/plain": [
       "5"
      ]
     },
     "execution_count": 26,
     "metadata": {},
     "output_type": "execute_result"
    }
   ],
   "source": [
    "sample_tuple[-1]"
   ]
  },
  {
   "cell_type": "code",
   "execution_count": 27,
   "id": "b192344d",
   "metadata": {},
   "outputs": [
    {
     "ename": "TypeError",
     "evalue": "'tuple' object does not support item assignment",
     "output_type": "error",
     "traceback": [
      "\u001b[1;31m---------------------------------------------------------------------------\u001b[0m",
      "\u001b[1;31mTypeError\u001b[0m                                 Traceback (most recent call last)",
      "Cell \u001b[1;32mIn[27], line 1\u001b[0m\n\u001b[1;32m----> 1\u001b[0m sample_tuple[\u001b[38;5;241m0\u001b[39m]\u001b[38;5;241m=\u001b[39m\u001b[38;5;241m100\u001b[39m\n",
      "\u001b[1;31mTypeError\u001b[0m: 'tuple' object does not support item assignment"
     ]
    }
   ],
   "source": [
    "sample_tuple[0]=100"
   ]
  },
  {
   "cell_type": "markdown",
   "id": "29fe7972",
   "metadata": {},
   "source": [
    "##### Tuple is immutable->cannot make changes\n",
    "##### () or no brackets\n"
   ]
  },
  {
   "cell_type": "markdown",
   "id": "261a7875",
   "metadata": {},
   "source": [
    "### Dictionary"
   ]
  },
  {
   "cell_type": "code",
   "execution_count": 29,
   "id": "82685b56",
   "metadata": {},
   "outputs": [],
   "source": [
    "dict_1={'name':\"arun\",\"hobbies\":[\"painting\",\"singing\"],5:2.3}"
   ]
  },
  {
   "cell_type": "code",
   "execution_count": 30,
   "id": "74b4e778",
   "metadata": {},
   "outputs": [
    {
     "data": {
      "text/plain": [
       "dict"
      ]
     },
     "execution_count": 30,
     "metadata": {},
     "output_type": "execute_result"
    }
   ],
   "source": [
    "type(dict_1)"
   ]
  },
  {
   "cell_type": "code",
   "execution_count": 31,
   "id": "980f7f65",
   "metadata": {},
   "outputs": [
    {
     "data": {
      "text/plain": [
       "{'name': 'arun', 'hobbies': ['painting', 'singing'], 5: 2.3}"
      ]
     },
     "execution_count": 31,
     "metadata": {},
     "output_type": "execute_result"
    }
   ],
   "source": [
    "dict_1"
   ]
  },
  {
   "cell_type": "code",
   "execution_count": 32,
   "id": "8aaff1aa",
   "metadata": {},
   "outputs": [
    {
     "data": {
      "text/plain": [
       "dict_keys(['name', 'hobbies', 5])"
      ]
     },
     "execution_count": 32,
     "metadata": {},
     "output_type": "execute_result"
    }
   ],
   "source": [
    "dict_1.keys()"
   ]
  },
  {
   "cell_type": "code",
   "execution_count": 33,
   "id": "236f8126",
   "metadata": {},
   "outputs": [
    {
     "data": {
      "text/plain": [
       "dict_values(['arun', ['painting', 'singing'], 2.3])"
      ]
     },
     "execution_count": 33,
     "metadata": {},
     "output_type": "execute_result"
    }
   ],
   "source": [
    "dict_1.values()"
   ]
  },
  {
   "cell_type": "code",
   "execution_count": 34,
   "id": "f4b591d8",
   "metadata": {},
   "outputs": [
    {
     "data": {
      "text/plain": [
       "['painting', 'singing']"
      ]
     },
     "execution_count": 34,
     "metadata": {},
     "output_type": "execute_result"
    }
   ],
   "source": [
    "dict_1['hobbies']"
   ]
  },
  {
   "cell_type": "code",
   "execution_count": 35,
   "id": "9492761c",
   "metadata": {},
   "outputs": [],
   "source": [
    "dict_1[\"names\"]=\"Latha\""
   ]
  },
  {
   "cell_type": "code",
   "execution_count": 36,
   "id": "cb455a46",
   "metadata": {},
   "outputs": [
    {
     "data": {
      "text/plain": [
       "{'name': 'arun', 'hobbies': ['painting', 'singing'], 5: 2.3, 'names': 'Latha'}"
      ]
     },
     "execution_count": 36,
     "metadata": {},
     "output_type": "execute_result"
    }
   ],
   "source": [
    "dict_1"
   ]
  },
  {
   "cell_type": "markdown",
   "id": "d8bed946",
   "metadata": {},
   "source": [
    "#### Key-value pair ds\n",
    "#### We can retrieve values using index\n",
    "#### Mutable\n",
    "### {}"
   ]
  },
  {
   "cell_type": "markdown",
   "id": "67ebc771",
   "metadata": {},
   "source": [
    "### Loops"
   ]
  },
  {
   "cell_type": "code",
   "execution_count": null,
   "id": "148ba9e7",
   "metadata": {},
   "outputs": [],
   "source": [
    "num=5\n",
    "if(num>0):\n",
    "    print(num,\"is greater than zero\")"
   ]
  },
  {
   "cell_type": "code",
   "execution_count": null,
   "id": "ace584bd",
   "metadata": {},
   "outputs": [],
   "source": [
    "num=-5\n",
    "if(num>0):\n",
    "    print(num,\"is greater than zero\")"
   ]
  },
  {
   "cell_type": "code",
   "execution_count": null,
   "id": "c7be09d0",
   "metadata": {},
   "outputs": [],
   "source": [
    "num=-5\n",
    "if(num>0):\n",
    "    print(num,\"is greater than zero\")\n",
    "else:\n",
    "    print(num,\"is lesser than zero\")"
   ]
  },
  {
   "cell_type": "code",
   "execution_count": 4,
   "id": "7cb3cef3",
   "metadata": {},
   "outputs": [
    {
     "name": "stdout",
     "output_type": "stream",
     "text": [
      "Enter age: 3\n",
      "Fare is 30\n"
     ]
    }
   ],
   "source": [
    "age=int(input(\"Enter age: \"))\n",
    "if(0<age<3):\n",
    "    print(\"No Fare\")\n",
    "elif(3<age<10):\n",
    "    print(\"Fare is 10\")\n",
    "elif(10<age<15):\n",
    "    print(\"Fare is 20\")\n",
    "else:\n",
    "    print(\"Fare is 30\")"
   ]
  },
  {
   "cell_type": "code",
   "execution_count": null,
   "id": "238d3640",
   "metadata": {},
   "outputs": [],
   "source": []
  }
 ],
 "metadata": {
  "kernelspec": {
   "display_name": "Python 3 (ipykernel)",
   "language": "python",
   "name": "python3"
  },
  "language_info": {
   "codemirror_mode": {
    "name": "ipython",
    "version": 3
   },
   "file_extension": ".py",
   "mimetype": "text/x-python",
   "name": "python",
   "nbconvert_exporter": "python",
   "pygments_lexer": "ipython3",
   "version": "3.10.9"
  }
 },
 "nbformat": 4,
 "nbformat_minor": 5
}
